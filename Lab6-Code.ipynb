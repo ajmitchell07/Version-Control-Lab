{
 "cells": [
  {
   "cell_type": "code",
   "execution_count": null,
   "id": "b5dc26d7-817d-48a4-807d-618f487e9056",
   "metadata": {},
   "outputs": [],
   "source": [
    "name = input(prompt=\"What is your name\")\n",
    "food = input(prompt=\"Whats your favorite food\")\n",
    "\n",
    "print(f\"Hi {name}, your favorite food is {food}.\")"
   ]
  }
 ],
 "metadata": {
  "kernelspec": {
   "display_name": "Python 3 (ipykernel)",
   "language": "python",
   "name": "python3"
  },
  "language_info": {
   "codemirror_mode": {
    "name": "ipython",
    "version": 3
   },
   "file_extension": ".py",
   "mimetype": "text/x-python",
   "name": "python",
   "nbconvert_exporter": "python",
   "pygments_lexer": "ipython3",
   "version": "3.11.13"
  }
 },
 "nbformat": 4,
 "nbformat_minor": 5
}
